{
 "cells": [
  {
   "cell_type": "code",
   "execution_count": 3,
   "metadata": {},
   "outputs": [],
   "source": [
    "rdd_prince = sc.textFile('data/prince_by_machiavelli.txt')"
   ]
  },
  {
   "cell_type": "code",
   "execution_count": 12,
   "metadata": {},
   "outputs": [
    {
     "data": {
      "text/plain": [
       "[u'CHAPTER I -- HOW MANY KINDS OF PRINCIPALITIES THERE ARE, AND BY WHAT',\n",
       " u'CHAPTER II -- CONCERNING HEREDITARY PRINCIPALITIES',\n",
       " u'CHAPTER III -- CONCERNING MIXED PRINCIPALITIES',\n",
       " u'CHAPTER IV -- WHY THE KINGDOM OF DARIUS, CONQUERED BY ALEXANDER, DID NOT',\n",
       " u'CHAPTER V -- CONCERNING THE WAY TO GOVERN CITIES OR PRINCIPALITIES WHICH',\n",
       " u\"CHAPTER VI -- CONCERNING NEW PRINCIPALITIES WHICH ARE ACQUIRED BY ONE'S\",\n",
       " u'CHAPTER VII -- CONCERNING NEW PRINCIPALITIES WHICH ARE ACQUIRED EITHER',\n",
       " u'CHAPTER VIII -- CONCERNING THOSE WHO HAVE OBTAINED A PRINCIPALITY BY',\n",
       " u'CHAPTER IX -- CONCERNING A CIVIL PRINCIPALITY',\n",
       " u'CHAPTER X -- CONCERNING THE WAY IN WHICH THE STRENGTH OF ALL',\n",
       " u'CHAPTER XI -- CONCERNING ECCLESIASTICAL PRINCIPALITIES',\n",
       " u'CHAPTER XII -- HOW MANY KINDS OF SOLDIERY THERE ARE, AND CONCERNING',\n",
       " u\"CHAPTER XIII -- CONCERNING AUXILIARIES, MIXED SOLDIERY, AND ONE'S OWN\",\n",
       " u'CHAPTER XIV -- THAT WHICH CONCERNS A PRINCE ON THE SUBJECT OF THE ART OF',\n",
       " u'CHAPTER XV -- CONCERNING THINGS FOR WHICH MEN, AND ESPECIALLY PRINCES,',\n",
       " u'CHAPTER XVI -- CONCERNING LIBERALITY AND MEANNESS',\n",
       " u'CHAPTER XVII -- CONCERNING CRUELTY AND CLEMENCY, AND WHETHER IT IS',\n",
       " u'CHAPTER XVIII(*) -- CONCERNING THE WAY IN WHICH PRINCES SHOULD KEEP',\n",
       " u'CHAPTER XIX -- THAT ONE SHOULD AVOID BEING DESPISED AND HATED',\n",
       " u'CHAPTER XX -- ARE FORTRESSES, AND MANY OTHER THINGS TO WHICH PRINCES',\n",
       " u'CHAPTER XXI -- HOW A PRINCE SHOULD CONDUCT HIMSELF SO AS TO GAIN RENOWN',\n",
       " u'CHAPTER XXII -- CONCERNING THE SECRETARIES OF PRINCES',\n",
       " u'CHAPTER XXIII -- HOW FLATTERERS SHOULD BE AVOIDED',\n",
       " u'CHAPTER XXIV -- WHY THE PRINCES OF ITALY HAVE LOST THEIR STATES',\n",
       " u'CHAPTER XXV -- WHAT FORTUNE CAN EFFECT IN HUMAN AFFAIRS AND HOW TO',\n",
       " u'CHAPTER XXVI -- AN EXHORTATION TO LIBERATE ITALY FROM THE BARBARIANS']"
      ]
     },
     "execution_count": 12,
     "metadata": {},
     "output_type": "execute_result"
    }
   ],
   "source": [
    "rdd_prince.filter(lambda s: s.startswith('CHAPTER ')).collect()"
   ]
  },
  {
   "cell_type": "code",
   "execution_count": 15,
   "metadata": {},
   "outputs": [
    {
     "data": {
      "text/plain": [
       "[(u'CHAPTER I -- HOW MANY KINDS OF PRINCIPALITIES THERE ARE, AND BY WHAT',\n",
       "  495),\n",
       " (u'CHAPTER II -- CONCERNING HEREDITARY PRINCIPALITIES', 516),\n",
       " (u'CHAPTER III -- CONCERNING MIXED PRINCIPALITIES', 545),\n",
       " (u'CHAPTER IV -- WHY THE KINGDOM OF DARIUS, CONQUERED BY ALEXANDER, DID NOT',\n",
       "  830),\n",
       " (u'CHAPTER V -- CONCERNING THE WAY TO GOVERN CITIES OR PRINCIPALITIES WHICH',\n",
       "  921),\n",
       " (u\"CHAPTER VI -- CONCERNING NEW PRINCIPALITIES WHICH ARE ACQUIRED BY ONE'S\",\n",
       "  966),\n",
       " (u'CHAPTER VII -- CONCERNING NEW PRINCIPALITIES WHICH ARE ACQUIRED EITHER',\n",
       "  1081),\n",
       " (u'CHAPTER VIII -- CONCERNING THOSE WHO HAVE OBTAINED A PRINCIPALITY BY',\n",
       "  1335),\n",
       " (u'CHAPTER IX -- CONCERNING A CIVIL PRINCIPALITY', 1480),\n",
       " (u'CHAPTER X -- CONCERNING THE WAY IN WHICH THE STRENGTH OF ALL', 1600),\n",
       " (u'CHAPTER XI -- CONCERNING ECCLESIASTICAL PRINCIPALITIES', 1666),\n",
       " (u'CHAPTER XII -- HOW MANY KINDS OF SOLDIERY THERE ARE, AND CONCERNING',\n",
       "  1753),\n",
       " (u\"CHAPTER XIII -- CONCERNING AUXILIARIES, MIXED SOLDIERY, AND ONE'S OWN\",\n",
       "  1950),\n",
       " (u'CHAPTER XIV -- THAT WHICH CONCERNS A PRINCE ON THE SUBJECT OF THE ART OF',\n",
       "  2094),\n",
       " (u'CHAPTER XV -- CONCERNING THINGS FOR WHICH MEN, AND ESPECIALLY PRINCES,',\n",
       "  2174),\n",
       " (u'CHAPTER XVI -- CONCERNING LIBERALITY AND MEANNESS', 2223),\n",
       " (u'CHAPTER XVII -- CONCERNING CRUELTY AND CLEMENCY, AND WHETHER IT IS', 2299),\n",
       " (u'CHAPTER XVIII(*) -- CONCERNING THE WAY IN WHICH PRINCES SHOULD KEEP',\n",
       "  2410),\n",
       " (u'CHAPTER XIX -- THAT ONE SHOULD AVOID BEING DESPISED AND HATED', 2545),\n",
       " (u'CHAPTER XX -- ARE FORTRESSES, AND MANY OTHER THINGS TO WHICH PRINCES',\n",
       "  2873),\n",
       " (u'CHAPTER XXI -- HOW A PRINCE SHOULD CONDUCT HIMSELF SO AS TO GAIN RENOWN',\n",
       "  3019),\n",
       " (u'CHAPTER XXII -- CONCERNING THE SECRETARIES OF PRINCES', 3158),\n",
       " (u'CHAPTER XXIII -- HOW FLATTERERS SHOULD BE AVOIDED', 3203),\n",
       " (u'CHAPTER XXIV -- WHY THE PRINCES OF ITALY HAVE LOST THEIR STATES', 3277),\n",
       " (u'CHAPTER XXV -- WHAT FORTUNE CAN EFFECT IN HUMAN AFFAIRS AND HOW TO', 3328),\n",
       " (u'CHAPTER XXVI -- AN EXHORTATION TO LIBERATE ITALY FROM THE BARBARIANS',\n",
       "  3441)]"
      ]
     },
     "execution_count": 15,
     "metadata": {},
     "output_type": "execute_result"
    }
   ],
   "source": [
    "rdd_prince.zipWithIndex().filter(lambda (s, index): s.startswith('CHAPTER ')).collect()"
   ]
  }
 ],
 "metadata": {
  "kernelspec": {
   "display_name": "PySpark",
   "language": "python",
   "name": "pyspark"
  },
  "language_info": {
   "codemirror_mode": {
    "name": "ipython",
    "version": 2
   },
   "file_extension": ".py",
   "mimetype": "text/x-python",
   "name": "python",
   "nbconvert_exporter": "python",
   "pygments_lexer": "ipython2",
   "version": "2.7.11"
  }
 },
 "nbformat": 4,
 "nbformat_minor": 1
}
